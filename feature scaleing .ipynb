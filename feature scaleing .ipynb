{
 "cells": [
  {
   "cell_type": "code",
   "execution_count": 1,
   "id": "f549850d-4708-4903-ab97-f468a577c11d",
   "metadata": {},
   "outputs": [],
   "source": [
    "import numpy as np\n",
    "import matplotlib.pyplot as plt\n",
    "import pandas as pd\n",
    "import seaborn as sns \n",
    "import warnings\n",
    "warnings.filterwarnings('ignore')"
   ]
  },
  {
   "cell_type": "code",
   "execution_count": 3,
   "id": "7ef88cb3-7a1e-48e0-81b5-e990aeb0bbd2",
   "metadata": {},
   "outputs": [],
   "source": [
    "df=pd.read_csv(r\"C:\\Users\\Prithweeraz\\Desktop\\dataset\\income.csv\")"
   ]
  },
  {
   "cell_type": "code",
   "execution_count": 11,
   "id": "d5823c92-a7a9-45e0-b0e1-c9cc8fd72340",
   "metadata": {},
   "outputs": [
    {
     "data": {
      "text/html": [
       "<div>\n",
       "<style scoped>\n",
       "    .dataframe tbody tr th:only-of-type {\n",
       "        vertical-align: middle;\n",
       "    }\n",
       "\n",
       "    .dataframe tbody tr th {\n",
       "        vertical-align: top;\n",
       "    }\n",
       "\n",
       "    .dataframe thead th {\n",
       "        text-align: right;\n",
       "    }\n",
       "</style>\n",
       "<table border=\"1\" class=\"dataframe\">\n",
       "  <thead>\n",
       "    <tr style=\"text-align: right;\">\n",
       "      <th></th>\n",
       "      <th>Name</th>\n",
       "      <th>Age</th>\n",
       "      <th>Income</th>\n",
       "      <th>Buy</th>\n",
       "    </tr>\n",
       "  </thead>\n",
       "  <tbody>\n",
       "    <tr>\n",
       "      <th>0</th>\n",
       "      <td>Rob</td>\n",
       "      <td>27</td>\n",
       "      <td>70000</td>\n",
       "      <td>Yes</td>\n",
       "    </tr>\n",
       "    <tr>\n",
       "      <th>1</th>\n",
       "      <td>Michael</td>\n",
       "      <td>29</td>\n",
       "      <td>90000</td>\n",
       "      <td>No</td>\n",
       "    </tr>\n",
       "    <tr>\n",
       "      <th>2</th>\n",
       "      <td>Mohan</td>\n",
       "      <td>29</td>\n",
       "      <td>61000</td>\n",
       "      <td>Yes</td>\n",
       "    </tr>\n",
       "    <tr>\n",
       "      <th>3</th>\n",
       "      <td>Ismail</td>\n",
       "      <td>28</td>\n",
       "      <td>60000</td>\n",
       "      <td>Yes</td>\n",
       "    </tr>\n",
       "    <tr>\n",
       "      <th>4</th>\n",
       "      <td>Kory</td>\n",
       "      <td>42</td>\n",
       "      <td>150000</td>\n",
       "      <td>No</td>\n",
       "    </tr>\n",
       "  </tbody>\n",
       "</table>\n",
       "</div>"
      ],
      "text/plain": [
       "      Name  Age  Income  Buy\n",
       "0      Rob   27   70000  Yes\n",
       "1  Michael   29   90000   No\n",
       "2    Mohan   29   61000  Yes\n",
       "3   Ismail   28   60000  Yes\n",
       "4     Kory   42  150000   No"
      ]
     },
     "execution_count": 11,
     "metadata": {},
     "output_type": "execute_result"
    }
   ],
   "source": [
    "df.head()"
   ]
  },
  {
   "cell_type": "code",
   "execution_count": 37,
   "id": "21f2716b-12a5-4dd3-9b0c-e09abbfda503",
   "metadata": {},
   "outputs": [],
   "source": [
    "#X=df.iloc[:,:-1].values\n",
    "#y=df.iloc[:,-1].values"
   ]
  },
  {
   "cell_type": "code",
   "execution_count": 72,
   "id": "19f7ae39-707d-4fab-b089-426dcbf621e3",
   "metadata": {},
   "outputs": [
    {
     "data": {
      "text/html": [
       "<div>\n",
       "<style scoped>\n",
       "    .dataframe tbody tr th:only-of-type {\n",
       "        vertical-align: middle;\n",
       "    }\n",
       "\n",
       "    .dataframe tbody tr th {\n",
       "        vertical-align: top;\n",
       "    }\n",
       "\n",
       "    .dataframe thead th {\n",
       "        text-align: right;\n",
       "    }\n",
       "</style>\n",
       "<table border=\"1\" class=\"dataframe\">\n",
       "  <thead>\n",
       "    <tr style=\"text-align: right;\">\n",
       "      <th></th>\n",
       "      <th>Age</th>\n",
       "      <th>Income</th>\n",
       "    </tr>\n",
       "  </thead>\n",
       "  <tbody>\n",
       "    <tr>\n",
       "      <th>0</th>\n",
       "      <td>27</td>\n",
       "      <td>70000</td>\n",
       "    </tr>\n",
       "    <tr>\n",
       "      <th>1</th>\n",
       "      <td>29</td>\n",
       "      <td>90000</td>\n",
       "    </tr>\n",
       "    <tr>\n",
       "      <th>2</th>\n",
       "      <td>29</td>\n",
       "      <td>61000</td>\n",
       "    </tr>\n",
       "    <tr>\n",
       "      <th>3</th>\n",
       "      <td>28</td>\n",
       "      <td>60000</td>\n",
       "    </tr>\n",
       "    <tr>\n",
       "      <th>4</th>\n",
       "      <td>42</td>\n",
       "      <td>150000</td>\n",
       "    </tr>\n",
       "  </tbody>\n",
       "</table>\n",
       "</div>"
      ],
      "text/plain": [
       "   Age  Income\n",
       "0   27   70000\n",
       "1   29   90000\n",
       "2   29   61000\n",
       "3   28   60000\n",
       "4   42  150000"
      ]
     },
     "execution_count": 72,
     "metadata": {},
     "output_type": "execute_result"
    }
   ],
   "source": [
    "X=df[['Age','Income']]\n",
    "X.head()"
   ]
  },
  {
   "cell_type": "code",
   "execution_count": 84,
   "id": "1a1644d7-085e-48f5-a5c3-3a190bddf8d8",
   "metadata": {},
   "outputs": [
    {
     "data": {
      "image/png": "[encoded data removed]",
      "text/plain": [
       "<Figure size 500x500 with 1 Axes>"
      ]
     },
     "metadata": {},
     "output_type": "display_data"
    }
   ],
   "source": [
    "    sns.displot(X['Age']);"
   ]
  },
  {
   "cell_type": "code",
   "execution_count": 86,
   "id": "76364a31-e4c7-42d2-b409-f2f1ce4e25a2",
   "metadata": {},
   "outputs": [],
   "source": [
    "from sklearn.preprocessing import MaxAbsScaler\n"
   ]
  },
  {
   "cell_type": "code",
   "execution_count": 92,
   "id": "e0a9fa71-d66d-4c8e-9bda-cfb6a66cf00c",
   "metadata": {},
   "outputs": [
    {
     "data": {
      "text/plain": [
       "array([[0.62790698, 0.43209877],\n",
       "       [0.6744186 , 0.55555556],\n",
       "       [0.6744186 , 0.37654321],\n",
       "       [0.65116279, 0.37037037],\n",
       "       [0.97674419, 0.92592593],\n",
       "       [0.90697674, 0.95679012],\n",
       "       [0.95348837, 0.98765432],\n",
       "       [0.88372093, 1.        ],\n",
       "       [0.8372093 , 0.96296296],\n",
       "       [0.81395349, 0.80246914],\n",
       "       [0.86046512, 0.84567901],\n",
       "       [0.60465116, 0.27777778],\n",
       "       [0.62790698, 0.2962963 ],\n",
       "       [0.65116279, 0.31481481],\n",
       "       [0.6744186 , 0.30555556],\n",
       "       [0.74418605, 0.32716049],\n",
       "       [0.93023256, 0.40123457],\n",
       "       [0.95348837, 0.38888889],\n",
       "       [1.        , 0.39506173],\n",
       "       [0.90697674, 0.49382716],\n",
       "       [0.95348837, 0.50617284],\n",
       "       [0.90697674, 0.35802469]])"
      ]
     },
     "execution_count": 92,
     "metadata": {},
     "output_type": "execute_result"
    }
   ],
   "source": [
    "MMS=MaxAbsScaler()\n",
    "X_after_MMs=MMS.fit_transform(X)\n",
    "X_after_MMs"
   ]
  },
  {
   "cell_type": "code",
   "execution_count": 108,
   "id": "ea4b4404-039b-4854-a989-adc2a91bc1d8",
   "metadata": {},
   "outputs": [
    {
     "data": {
      "text/plain": [
       "array([[-1.35605536, -0.48068427],\n",
       "       [-1.00915747, -0.01015907],\n",
       "       [-1.00915747, -0.69242061],\n",
       "       [-1.18260641, -0.71594687],\n",
       "       [ 1.24567876,  1.40141653],\n",
       "       [ 0.72533193,  1.51904783],\n",
       "       [ 1.07222982,  1.63667914],\n",
       "       [ 0.55188299,  1.68373166],\n",
       "       [ 0.20498511,  1.54257409],\n",
       "       [ 0.03153617,  0.93089133],\n",
       "       [ 0.37843405,  1.09557515],\n",
       "       [-1.5295043 , -1.06884077],\n",
       "       [-1.35605536, -0.99826199],\n",
       "       [-1.18260641, -0.92768321],\n",
       "       [-1.00915747, -0.9629726 ],\n",
       "       [-0.48881065, -0.88063069],\n",
       "       [ 0.89878087, -0.59831557],\n",
       "       [ 1.07222982, -0.64536809],\n",
       "       [ 1.4191277 , -0.62184183],\n",
       "       [ 0.72533193, -0.24542167],\n",
       "       [ 1.07222982, -0.19836915],\n",
       "       [ 0.72533193, -0.76299939]])"
      ]
     },
     "execution_count": 108,
     "metadata": {},
     "output_type": "execute_result"
    }
   ],
   "source": [
    "from sklearn.preprocessing import StandardScaler as SC\n",
    "std=SC()\n",
    "x_after_std=  std.fit_transform(X)\n",
    "x_after_std"
   ]
  },
  {
   "cell_type": "code",
   "execution_count": 112,
   "id": "715d095e-73ff-4637-9dbc-703c14d346d0",
   "metadata": {},
   "outputs": [
    {
     "data": {
      "text/plain": [
       "array([[0.62790698, 0.43209877],\n",
       "       [0.6744186 , 0.55555556],\n",
       "       [0.6744186 , 0.37654321],\n",
       "       [0.65116279, 0.37037037],\n",
       "       [0.97674419, 0.92592593],\n",
       "       [0.90697674, 0.95679012],\n",
       "       [0.95348837, 0.98765432],\n",
       "       [0.88372093, 1.        ],\n",
       "       [0.8372093 , 0.96296296],\n",
       "       [0.81395349, 0.80246914],\n",
       "       [0.86046512, 0.84567901],\n",
       "       [0.60465116, 0.27777778],\n",
       "       [0.62790698, 0.2962963 ],\n",
       "       [0.65116279, 0.31481481],\n",
       "       [0.6744186 , 0.30555556],\n",
       "       [0.74418605, 0.32716049],\n",
       "       [0.93023256, 0.40123457],\n",
       "       [0.95348837, 0.38888889],\n",
       "       [1.        , 0.39506173],\n",
       "       [0.90697674, 0.49382716],\n",
       "       [0.95348837, 0.50617284],\n",
       "       [0.90697674, 0.35802469]])"
      ]
     },
     "execution_count": 112,
     "metadata": {},
     "output_type": "execute_result"
    }
   ],
   "source": [
    "from sklearn.preprocessing import MaxAbsScaler\n",
    "maxabs=MaxAbsScaler()\n",
    "x_after_maxabs=maxabs.fit_transform(X)\n",
    "x_after_maxabs"
   ]
  },
  {
   "cell_type": "code",
   "execution_count": null,
   "id": "e0457763-e465-4c51-bddf-5b6ad787b919",
   "metadata": {},
   "outputs": [],
   "source": []
  }
 ],
 "metadata": {
  "kernelspec": {
   "display_name": "Python 3 (ipykernel)",
   "language": "python",
   "name": "python3"
  },
  "language_info": {
   "codemirror_mode": {
    "name": "ipython",
    "version": 3
   },
   "file_extension": ".py",
   "mimetype": "text/x-python",
   "name": "python",
   "nbconvert_exporter": "python",
   "pygments_lexer": "ipython3",
   "version": "3.12.4"
  }
 },
 "nbformat": 4,
 "nbformat_minor": 5
}
